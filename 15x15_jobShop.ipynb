{
  "nbformat": 4,
  "nbformat_minor": 0,
  "metadata": {
    "kernelspec": {
      "display_name": "Python 3",
      "language": "python",
      "name": "python3"
    },
    "language_info": {
      "codemirror_mode": {
        "name": "ipython",
        "version": 3
      },
      "file_extension": ".py",
      "mimetype": "text/x-python",
      "name": "python",
      "nbconvert_exporter": "python",
      "pygments_lexer": "ipython3",
      "version": "3.7.0"
    },
    "colab": {
      "name": "15x15 jobShop.ipynb",
      "provenance": [],
      "collapsed_sections": [],
      "include_colab_link": true
    }
  },
  "cells": [
    {
      "cell_type": "markdown",
      "metadata": {
        "id": "view-in-github",
        "colab_type": "text"
      },
      "source": [
        "<a href=\"https://colab.research.google.com/github/redwon007/JobShopPSO/blob/main/15x15_jobShop.ipynb\" target=\"_parent\"><img src=\"https://colab.research.google.com/assets/colab-badge.svg\" alt=\"Open In Colab\"/></a>"
      ]
    },
    {
      "cell_type": "code",
      "metadata": {
        "id": "zBfVoPRHRLuX"
      },
      "source": [
        "import numpy as np\n",
        "import os\n",
        "from copy import deepcopy\n",
        "import plotly.figure_factory as ff\n",
        "import plotly.express as px\n",
        "import pandas as pd\n",
        "from datetime import datetime\n",
        "import math\n",
        "from random import randint, random"
      ],
      "execution_count": 25,
      "outputs": []
    },
    {
      "cell_type": "code",
      "metadata": {
        "id": "ioNLqB2zMfxe",
        "outputId": "a13b060f-c2a7-4dc1-849f-d5536768d1c2",
        "colab": {
          "base_uri": "https://localhost:8080/"
        }
      },
      "source": [
        "nbMachines = input(\"nbMachines?\")\n",
        "nbJobs = input(\"nbJobs?\")\n",
        "nbDataSet = int(input(\"nbDataSet?\"))\n",
        "\n",
        "path = \"tai\" + nbMachines + \"_\" + nbJobs + \".txt\"\n",
        "fichier = open(path, \"r\")\n",
        "\n",
        "for i in range(34*(nbDataSet-1) + 3 ):\n",
        "    line = fichier.readline()\n",
        "    \n",
        "times = []\n",
        "for i in range(20):\n",
        "    line = [int(i) for i in fichier.readline().strip().split()]\n",
        "    times.append(line)\n",
        "    \n",
        "line = fichier.readline()#read line \"Machines\\n\"\n",
        "\n",
        "machines = []\n",
        "for i in range(20):\n",
        "    line = [int(i) for i in fichier.readline().strip().split()]\n",
        "    machines.append(line)\n",
        "    \n",
        "fichier.close()"
      ],
      "execution_count": 29,
      "outputs": [
        {
          "output_type": "stream",
          "text": [
            "nbMachines?20\n",
            "nbJobs?15\n",
            "nbDataSet?1\n"
          ],
          "name": "stdout"
        }
      ]
    },
    {
      "cell_type": "code",
      "metadata": {
        "id": "3BKkg2uQRLvf",
        "outputId": "ae5fb6f3-0ca7-4d45-c96a-f405230c3c79",
        "colab": {
          "base_uri": "https://localhost:8080/"
        }
      },
      "source": [
        "print(times)\n",
        "print(machines)"
      ],
      "execution_count": 30,
      "outputs": [
        {
          "output_type": "stream",
          "text": [
            "[[25, 75, 75, 76, 38, 62, 38, 59, 14, 13, 46, 31, 57, 92, 3], [67, 5, 11, 11, 40, 34, 77, 42, 35, 96, 22, 55, 21, 29, 16], [22, 98, 8, 35, 59, 31, 13, 46, 52, 22, 18, 19, 64, 29, 70], [99, 42, 2, 35, 11, 92, 88, 97, 21, 56, 17, 43, 27, 19, 23], [50, 5, 59, 71, 47, 39, 82, 35, 12, 2, 39, 42, 52, 65, 35], [48, 57, 5, 2, 60, 64, 86, 3, 51, 26, 34, 39, 45, 63, 54], [40, 43, 50, 71, 46, 99, 67, 34, 6, 95, 67, 54, 29, 30, 60], [59, 3, 85, 6, 46, 49, 5, 82, 18, 71, 48, 79, 62, 65, 76], [65, 55, 81, 15, 32, 52, 97, 69, 82, 89, 69, 87, 22, 71, 63], [70, 74, 52, 94, 14, 81, 24, 14, 32, 39, 67, 59, 18, 77, 50], [18, 6, 96, 53, 35, 99, 39, 18, 14, 90, 64, 81, 89, 48, 80], [44, 75, 12, 13, 74, 59, 71, 75, 30, 93, 26, 30, 84, 91, 93], [39, 56, 13, 29, 55, 69, 26, 7, 55, 48, 22, 46, 50, 96, 17], [57, 14, 8, 13, 95, 53, 78, 24, 92, 90, 68, 87, 43, 75, 94], [93, 92, 18, 28, 27, 40, 56, 83, 51, 15, 97, 48, 53, 78, 39], [47, 34, 42, 28, 11, 11, 30, 14, 10, 4, 20, 92, 19, 59, 28], [69, 82, 64, 40, 27, 82, 27, 43, 56, 17, 18, 20, 98, 43, 68], [84, 26, 87, 61, 95, 23, 88, 89, 49, 84, 12, 51, 3, 44, 20], [43, 54, 18, 72, 70, 28, 20, 22, 59, 36, 85, 13, 73, 29, 45], [7, 97, 4, 22, 74, 45, 62, 95, 66, 14, 40, 23, 79, 34, 8]]\n",
            "[[4, 12, 15, 2, 11, 3, 5, 8, 1, 13, 6, 10, 7, 14, 9], [6, 1, 4, 9, 5, 2, 13, 15, 7, 8, 11, 3, 10, 14, 12], [3, 4, 15, 1, 10, 13, 6, 5, 8, 11, 9, 12, 14, 2, 7], [9, 11, 2, 14, 4, 5, 15, 10, 3, 6, 12, 8, 1, 7, 13], [15, 9, 2, 3, 11, 10, 13, 5, 7, 6, 1, 14, 4, 12, 8], [4, 11, 2, 6, 7, 1, 9, 8, 12, 14, 3, 15, 13, 10, 5], [3, 11, 2, 13, 9, 1, 8, 7, 15, 14, 5, 4, 6, 10, 12], [2, 1, 3, 5, 8, 14, 12, 4, 13, 6, 7, 15, 10, 9, 11], [5, 6, 10, 11, 8, 7, 3, 2, 13, 4, 14, 1, 9, 15, 12], [2, 5, 4, 11, 15, 1, 7, 14, 12, 9, 6, 13, 8, 10, 3], [4, 11, 2, 1, 10, 9, 15, 7, 5, 8, 3, 13, 6, 12, 14], [3, 8, 7, 9, 4, 6, 15, 5, 2, 1, 10, 11, 14, 12, 13], [1, 8, 15, 9, 13, 11, 10, 4, 7, 2, 5, 3, 12, 14, 6], [13, 4, 10, 5, 2, 1, 11, 7, 6, 3, 15, 14, 8, 9, 12], [4, 15, 7, 6, 14, 10, 2, 1, 13, 8, 3, 5, 11, 9, 12], [6, 15, 7, 13, 9, 3, 5, 10, 12, 14, 4, 2, 8, 1, 11], [4, 8, 11, 15, 1, 9, 2, 12, 6, 14, 5, 13, 7, 10, 3], [11, 9, 3, 12, 14, 7, 15, 4, 10, 8, 5, 6, 13, 1, 2], [4, 3, 13, 14, 2, 7, 15, 6, 5, 9, 10, 12, 1, 11, 8], [12, 15, 6, 7, 11, 10, 14, 2, 5, 9, 1, 4, 13, 3, 8]]\n"
          ],
          "name": "stdout"
        }
      ]
    },
    {
      "cell_type": "code",
      "metadata": {
        "id": "xDd_-3fMRLw3"
      },
      "source": [
        "def vectorSolToMatrixSol(vectorSol):\n",
        "    matrixSol = [[] for i in range(len(machines[0]))]\n",
        "    operation = [1] * len(machines)\n",
        "    for job in vectorSol:\n",
        "        job = int(job)\n",
        "        matrixSol[machines[job-1][operation[job-1]-1]-1].append((job,operation[job-1]))\n",
        "        operation[job-1] += 1\n",
        "    return(matrixSol)\n"
      ],
      "execution_count": 42,
      "outputs": []
    },
    {
      "cell_type": "code",
      "metadata": {
        "id": "YgUXggQORLxX"
      },
      "source": [
        "def createGantt(solution):\n",
        "    gantt = deepcopy(solution)\n",
        "    nbJobs = len(machines)\n",
        "    toPlaceList = [1] * nbJobs\n",
        "    endTimeList = [0] * nbJobs\n",
        "    i,j = 0,0\n",
        "    while(i<len(machines[0])):\n",
        "    #for i in range(len(machines)):\n",
        "        \n",
        "        while(j<nbJobs):\n",
        "        #for j in range(nbJobs):\n",
        "            #print(i,j, \" \", toPlaceList , \" \" , endTimeList)\n",
        "            refresh = False\n",
        "            for job, toPlace in enumerate(toPlaceList):\n",
        "                \n",
        "                if(solution[i][j][0] == job+1 and solution[i][j][1] == toPlace):\n",
        "                    if(j==0 or gantt[i][j-1] != solution[i][j-1]):\n",
        "                        #print(toPlaceList , \" \" , endTimeList)      \n",
        "                        #print(i,j)\n",
        "                        refresh = True\n",
        "                        if(j == 0):\n",
        "                            previous = 0\n",
        "                        else:\n",
        "                            previous = gantt[i][j-1][1]\n",
        "                        startTime = max(previous, endTimeList[job])\n",
        "                        endTime = startTime + times[job][solution[i][j][1]-1]\n",
        "                        gantt[i][j] = (startTime, endTime)\n",
        "                        toPlaceList[job] += 1\n",
        "                        endTimeList[job] = endTime\n",
        "                        #j = 0\n",
        "            if(refresh == True):\n",
        "                break\n",
        "            j += 1\n",
        "        i += 1\n",
        "        j = 0    \n",
        "        if(refresh == True):\n",
        "            i=0\n",
        "    return(gantt)\n",
        "    "
      ],
      "execution_count": 64,
      "outputs": []
    },
    {
      "cell_type": "code",
      "metadata": {
        "id": "1YgRiWslRLx7"
      },
      "source": [
        "def makespan(vectorSolution):\n",
        "    gantt = createGantt(vectorSolToMatrixSol(vectorSolution))\n",
        "    makespan = max(gantt[0][-1])\n",
        "    for lastOp in gantt:     \n",
        "      lastRelease = max(lastOp[-1])\n",
        "      if(lastRelease > makespan):\n",
        "        makespan = lastRelease\n",
        "    return(makespan)"
      ],
      "execution_count": 33,
      "outputs": []
    },
    {
      "cell_type": "code",
      "metadata": {
        "id": "F02CCPZ1RLyc"
      },
      "source": [
        "def computeNextVelocity(velocity, pos, bPos, bbPos):\n",
        "    nextVelocity = velocity + (bPos - pos) + (bbPos - pos)\n",
        "    return nextVelocity"
      ],
      "execution_count": 34,
      "outputs": []
    },
    {
      "cell_type": "code",
      "metadata": {
        "id": "d2YZ3-fXRLyp"
      },
      "source": [
        "def arrangeSol(sol, continuousSol):\n",
        "    newSol = np.array([])\n",
        "    while(np.size(sol) != 0):\n",
        "        minIndex = np.where(continuousSol == np.amin(continuousSol))[0]\n",
        "        \n",
        "        for i in minIndex:\n",
        "            newSol = np.append(newSol, sol[i])\n",
        "        inds_to_delete = sorted(minIndex, reverse=True)\n",
        "        for i in inds_to_delete:\n",
        "            sol = np.delete(sol, i)\n",
        "            continuousSol = np.delete(continuousSol, i)\n",
        "    return(newSol)"
      ],
      "execution_count": 35,
      "outputs": []
    },
    {
      "cell_type": "code",
      "metadata": {
        "id": "Q1dA3EKEpvrb"
      },
      "source": [
        "def firstNotSchedule(newPosition, position):\n",
        "  scheduled = [0] * len(machines)\n",
        "  for i, job in enumerate(position):\n",
        "    if(np.count_nonzero(newPosition == job) == scheduled[int(job)-1]):\n",
        "      return(job)\n",
        "    else:\n",
        "      scheduled[int(job)-1] +=1"
      ],
      "execution_count": 36,
      "outputs": []
    },
    {
      "cell_type": "code",
      "metadata": {
        "id": "3SJyJAlrRLy-"
      },
      "source": [
        "def newParticle(particle, pBestParticle, gBestParticle):\n",
        "  newPosition = np.array([])\n",
        "  #pIndex, pBIndex, gBIndex = 0, 0, 0\n",
        "  for j in range(len(particle)):\n",
        "    i = 0\n",
        "    nbJobs = len(times)\n",
        "    wc, wb, wg = 0.2, 0.3, 0.5\n",
        "    u = random()\n",
        "    if(u <= wc):\n",
        "      newPosition = np.append(newPosition, firstNotSchedule(newPosition, particle))\n",
        "    elif(u <= wb + wg):\n",
        "      newPosition = np.append(newPosition, firstNotSchedule(newPosition, pBestParticle))\n",
        "    elif(wc+wb < u):\n",
        "      newPosition = np.append(newPosition, firstNotSchedule(newPosition, gBestParticle))\n",
        "\n",
        "  return(newPosition)\n"
      ],
      "execution_count": 37,
      "outputs": []
    },
    {
      "cell_type": "code",
      "metadata": {
        "id": "XPiQ9eWXNZ8o"
      },
      "source": [
        "def createSol(nbJobs, nbMachines):\n",
        "  sol = np.array([])\n",
        "  for i in range(nbMachines):\n",
        "    for j in range(1, nbJobs + 1):\n",
        "      sol = np.append(sol, j)\n",
        "  return(sol)"
      ],
      "execution_count": 38,
      "outputs": []
    },
    {
      "cell_type": "code",
      "metadata": {
        "id": "8p64kQTfN0Fu",
        "outputId": "237ef055-2b17-4de6-955e-fa9b79635807",
        "colab": {
          "base_uri": "https://localhost:8080/"
        }
      },
      "source": [
        "sol = createSol(20, 15)\n",
        "print(sol)"
      ],
      "execution_count": 55,
      "outputs": [
        {
          "output_type": "stream",
          "text": [
            "[ 1.  2.  3.  4.  5.  6.  7.  8.  9. 10. 11. 12. 13. 14. 15. 16. 17. 18.\n",
            " 19. 20.  1.  2.  3.  4.  5.  6.  7.  8.  9. 10. 11. 12. 13. 14. 15. 16.\n",
            " 17. 18. 19. 20.  1.  2.  3.  4.  5.  6.  7.  8.  9. 10. 11. 12. 13. 14.\n",
            " 15. 16. 17. 18. 19. 20.  1.  2.  3.  4.  5.  6.  7.  8.  9. 10. 11. 12.\n",
            " 13. 14. 15. 16. 17. 18. 19. 20.  1.  2.  3.  4.  5.  6.  7.  8.  9. 10.\n",
            " 11. 12. 13. 14. 15. 16. 17. 18. 19. 20.  1.  2.  3.  4.  5.  6.  7.  8.\n",
            "  9. 10. 11. 12. 13. 14. 15. 16. 17. 18. 19. 20.  1.  2.  3.  4.  5.  6.\n",
            "  7.  8.  9. 10. 11. 12. 13. 14. 15. 16. 17. 18. 19. 20.  1.  2.  3.  4.\n",
            "  5.  6.  7.  8.  9. 10. 11. 12. 13. 14. 15. 16. 17. 18. 19. 20.  1.  2.\n",
            "  3.  4.  5.  6.  7.  8.  9. 10. 11. 12. 13. 14. 15. 16. 17. 18. 19. 20.\n",
            "  1.  2.  3.  4.  5.  6.  7.  8.  9. 10. 11. 12. 13. 14. 15. 16. 17. 18.\n",
            " 19. 20.  1.  2.  3.  4.  5.  6.  7.  8.  9. 10. 11. 12. 13. 14. 15. 16.\n",
            " 17. 18. 19. 20.  1.  2.  3.  4.  5.  6.  7.  8.  9. 10. 11. 12. 13. 14.\n",
            " 15. 16. 17. 18. 19. 20.  1.  2.  3.  4.  5.  6.  7.  8.  9. 10. 11. 12.\n",
            " 13. 14. 15. 16. 17. 18. 19. 20.  1.  2.  3.  4.  5.  6.  7.  8.  9. 10.\n",
            " 11. 12. 13. 14. 15. 16. 17. 18. 19. 20.  1.  2.  3.  4.  5.  6.  7.  8.\n",
            "  9. 10. 11. 12. 13. 14. 15. 16. 17. 18. 19. 20.]\n"
          ],
          "name": "stdout"
        }
      ]
    },
    {
      "cell_type": "code",
      "metadata": {
        "id": "RYj0B-jsQRfY",
        "outputId": "55adaf6b-b96d-445e-9a4b-94abb6968de6",
        "colab": {
          "base_uri": "https://localhost:8080/"
        }
      },
      "source": [
        "print(vectorSolToMatrixSol(sol))"
      ],
      "execution_count": 47,
      "outputs": [
        {
          "output_type": "stream",
          "text": [
            "[[(13, 1), (2, 2), (8, 2), (3, 4), (11, 4), (17, 5), (6, 6), (7, 6), (10, 6), (14, 6), (15, 8), (1, 9), (12, 10), (5, 11), (20, 11), (9, 12), (4, 13), (19, 13), (16, 14), (18, 14)], [(8, 1), (10, 1), (4, 3), (5, 3), (6, 3), (7, 3), (11, 3), (1, 4), (14, 5), (19, 5), (2, 6), (15, 7), (17, 7), (9, 8), (20, 8), (12, 9), (13, 10), (16, 12), (3, 14), (18, 15)], [(3, 1), (7, 1), (12, 1), (19, 2), (8, 3), (18, 3), (5, 4), (1, 6), (16, 6), (9, 7), (4, 9), (14, 10), (6, 11), (11, 11), (15, 11), (2, 12), (13, 12), (20, 14), (10, 15), (17, 15)], [(1, 1), (6, 1), (11, 1), (15, 1), (17, 1), (19, 1), (3, 2), (14, 2), (2, 3), (10, 3), (4, 5), (12, 5), (8, 8), (13, 8), (18, 8), (9, 10), (16, 11), (7, 12), (20, 12), (5, 13)], [(9, 1), (10, 2), (8, 4), (14, 4), (2, 5), (4, 6), (1, 7), (16, 7), (3, 8), (5, 8), (12, 8), (11, 9), (19, 9), (20, 9), (7, 11), (13, 11), (17, 11), (18, 11), (15, 12), (6, 15)], [(2, 1), (16, 1), (9, 2), (20, 3), (6, 4), (15, 4), (12, 6), (3, 7), (19, 8), (14, 9), (17, 9), (4, 10), (5, 10), (8, 10), (1, 11), (10, 11), (18, 12), (7, 13), (11, 13), (13, 15)], [(12, 3), (15, 3), (16, 3), (20, 4), (6, 5), (9, 6), (18, 6), (19, 6), (10, 7), (7, 8), (11, 8), (14, 8), (2, 9), (5, 9), (13, 9), (8, 11), (1, 13), (17, 13), (4, 14), (3, 15)], [(12, 2), (13, 2), (17, 2), (8, 5), (9, 5), (7, 7), (1, 8), (6, 8), (3, 9), (2, 10), (11, 10), (15, 10), (18, 10), (4, 12), (10, 13), (14, 13), (16, 13), (5, 15), (19, 15), (20, 15)], [(4, 1), (5, 2), (18, 2), (2, 4), (12, 4), (13, 4), (7, 5), (16, 5), (11, 6), (17, 6), (6, 7), (10, 10), (19, 10), (20, 10), (3, 11), (9, 13), (8, 14), (14, 14), (15, 14), (1, 15)], [(9, 3), (14, 3), (3, 5), (11, 5), (5, 6), (15, 6), (20, 6), (13, 7), (4, 8), (16, 8), (18, 9), (12, 11), (19, 11), (1, 12), (2, 13), (8, 13), (6, 14), (7, 14), (10, 14), (17, 14)], [(18, 1), (4, 2), (6, 2), (7, 2), (11, 2), (17, 3), (9, 4), (10, 4), (1, 5), (5, 5), (20, 5), (13, 6), (14, 7), (3, 10), (2, 11), (12, 12), (15, 13), (19, 14), (8, 15), (16, 15)], [(20, 1), (1, 2), (18, 4), (8, 7), (17, 8), (6, 9), (10, 9), (16, 9), (4, 11), (3, 12), (19, 12), (13, 13), (5, 14), (11, 14), (12, 14), (2, 15), (7, 15), (9, 15), (14, 15), (15, 15)], [(14, 1), (19, 3), (7, 4), (16, 4), (13, 5), (3, 6), (2, 7), (5, 7), (8, 9), (9, 9), (15, 9), (1, 10), (10, 12), (11, 12), (17, 12), (6, 13), (18, 13), (20, 13), (4, 15), (12, 15)], [(4, 4), (19, 4), (15, 5), (18, 5), (8, 6), (20, 7), (10, 8), (6, 10), (7, 10), (16, 10), (17, 10), (9, 11), (5, 12), (14, 12), (3, 13), (12, 13), (1, 14), (2, 14), (13, 14), (11, 15)], [(5, 1), (15, 2), (16, 2), (20, 2), (1, 3), (3, 3), (13, 3), (17, 4), (10, 5), (4, 7), (11, 7), (12, 7), (18, 7), (19, 7), (2, 8), (7, 9), (14, 11), (6, 12), (8, 12), (9, 14)]]\n"
          ],
          "name": "stdout"
        }
      ]
    },
    {
      "cell_type": "code",
      "metadata": {
        "id": "Q-nH6IlxRLzG"
      },
      "source": [
        "def jobShopPSO():\n",
        "    swarm = [{\"position\" : np.random.permutation(sol) , \"pBestParticle\" : np.array([]) , \"cMaxBestParticle\" : np.array([]) , \"velocity\" : np.array([])},\n",
        "             {\"position\" : np.random.permutation(sol) , \"pBestParticle\" : np.array([]) , \"cMaxBestParticle\" : np.array([]) , \"velocity\" : np.array([])},\n",
        "             {\"position\" : np.random.permutation(sol) , \"pBestParticle\" : np.array([]) , \"cMaxBestParticle\" : np.array([]) , \"velocity\" : np.array([])},\n",
        "             {\"position\" : np.random.permutation(sol) , \"pBestParticle\" : np.array([]) , \"cMaxBestParti cle\" : np.array([]) , \"velocity\" : np.array([])},\n",
        "             {\"position\" : np.random.permutation(sol) , \"pBestParticle\" : np.array([]) , \"cMaxBestParticle\" : np.array([]) , \"velocity\" : np.array([])},\n",
        "\n",
        "        ]\n",
        "    gBestParticle = swarm[0][\"position\"]\n",
        "    gBestParticleCmax = makespan(gBestParticle)\n",
        "    for i, particle in enumerate(swarm):\n",
        "        particle[\"pBestParticle\"] = particle[\"position\"]\n",
        "        particle[\"pBestParticleCmax\"] = makespan(particle[\"pBestParticle\"])\n",
        "        particle[\"velocity\"] = 0\n",
        "        if(particle[\"pBestParticleCmax\"] < gBestParticleCmax):\n",
        "            gBestParticle = particle[\"position\"]\n",
        "            gBestParticleCmax = particle[\"pBestParticleCmax\"]\n",
        "        \n",
        "    iteration = 0\n",
        "    while(iteration < 10):\n",
        "        iteration +=1\n",
        "        print('\\n\\niteration', iteration)\n",
        "        for i, particle in enumerate(swarm):\n",
        "            #particle[\"velocity\"] = computeNextVelocity(particle[\"velocity\"], particle[\"position\"], particle[\"pBestParticle\"], gBestParticle)\n",
        "            particle[\"position\"] = newParticle(particle[\"position\"], particle[\"pBestParticle\"], gBestParticle)\n",
        "            pCmax = makespan(particle[\"position\"])\n",
        "            if(pCmax < particle[\"pBestParticleCmax\"]):\n",
        "                particle[\"pBestParticle\"] = particle[\"position\"]\n",
        "                particle[\"pBestParticleCmax\"] = pCmax\n",
        "                if(pCmax < gBestParticleCmax):\n",
        "                    gBestParticle = particle[\"position\"]\n",
        "                    gBestParticleCmax = pCmax\n",
        "            print(\"particle\",i,\" cmax = \", pCmax)\n",
        "    return((gBestParticle, gBestParticleCmax))"
      ],
      "execution_count": 56,
      "outputs": []
    },
    {
      "cell_type": "code",
      "metadata": {
        "id": "HASunsGQRLzQ",
        "outputId": "bf963a03-c5ca-46f6-e80e-d3d03e458102",
        "colab": {
          "base_uri": "https://localhost:8080/"
        }
      },
      "source": [
        "a = jobShopPSO()"
      ],
      "execution_count": 65,
      "outputs": [
        {
          "output_type": "stream",
          "text": [
            "\n",
            "\n",
            "iteration 1\n",
            "particle 0  cmax =  3129\n",
            "particle 1  cmax =  2658\n",
            "particle 2  cmax =  2566\n",
            "particle 3  cmax =  2492\n",
            "particle 4  cmax =  2880\n",
            "\n",
            "\n",
            "iteration 2\n",
            "particle 0  cmax =  3139\n",
            "particle 1  cmax =  2827\n",
            "particle 2  cmax =  2529\n",
            "particle 3  cmax =  2492\n",
            "particle 4  cmax =  2905\n",
            "\n",
            "\n",
            "iteration 3\n",
            "particle 0  cmax =  3132\n",
            "particle 1  cmax =  2779\n",
            "particle 2  cmax =  2700\n",
            "particle 3  cmax =  2492\n",
            "particle 4  cmax =  2937\n",
            "\n",
            "\n",
            "iteration 4\n",
            "particle 0  cmax =  2953\n",
            "particle 1  cmax =  2429\n",
            "particle 2  cmax =  2674\n",
            "particle 3  cmax =  2534\n",
            "particle 4  cmax =  2786\n",
            "\n",
            "\n",
            "iteration 5\n",
            "particle 0  cmax =  2907\n",
            "particle 1  cmax =  2429\n",
            "particle 2  cmax =  2765\n",
            "particle 3  cmax =  2315\n",
            "particle 4  cmax =  2616\n",
            "\n",
            "\n",
            "iteration 6\n",
            "particle 0  cmax =  2994\n",
            "particle 1  cmax =  2462\n",
            "particle 2  cmax =  3066\n",
            "particle 3  cmax =  2315\n",
            "particle 4  cmax =  2811\n",
            "\n",
            "\n",
            "iteration 7\n",
            "particle 0  cmax =  2990\n",
            "particle 1  cmax =  2373\n",
            "particle 2  cmax =  3007\n",
            "particle 3  cmax =  2315\n",
            "particle 4  cmax =  2638\n",
            "\n",
            "\n",
            "iteration 8\n",
            "particle 0  cmax =  3030\n",
            "particle 1  cmax =  2491\n",
            "particle 2  cmax =  2850\n",
            "particle 3  cmax =  2315\n",
            "particle 4  cmax =  2752\n",
            "\n",
            "\n",
            "iteration 9\n",
            "particle 0  cmax =  2970\n",
            "particle 1  cmax =  2535\n",
            "particle 2  cmax =  2736\n",
            "particle 3  cmax =  2315\n",
            "particle 4  cmax =  2890\n",
            "\n",
            "\n",
            "iteration 10\n",
            "particle 0  cmax =  3025\n",
            "particle 1  cmax =  2569\n",
            "particle 2  cmax =  2677\n",
            "particle 3  cmax =  2315\n",
            "particle 4  cmax =  2787\n"
          ],
          "name": "stdout"
        }
      ]
    },
    {
      "cell_type": "code",
      "metadata": {
        "id": "cMYJ-u0-oHZP",
        "outputId": "8127a4de-2a38-4ad3-cfaa-ad4efa23770d",
        "colab": {
          "base_uri": "https://localhost:8080/"
        }
      },
      "source": [
        "print(a)"
      ],
      "execution_count": 23,
      "outputs": [
        {
          "output_type": "stream",
          "text": [
            "(array([13., 16., 11., 19., 12., 11.,  3.,  2.,  3.,  9., 20.,  9.,  6.,\n",
            "        2.,  1.,  7., 10., 15., 20.,  7., 11., 18., 17.,  1., 18.,  7.,\n",
            "        9.,  6., 12., 19.,  9.,  3.,  8.,  2.,  4.,  2., 10., 10.,  8.,\n",
            "        4., 20., 17., 19., 12., 14., 15.,  2.,  5.,  6.,  1., 15.,  2.,\n",
            "       14.,  2., 20.,  1.,  4.,  2., 13., 13.,  1., 12., 17.,  8., 20.,\n",
            "       16.,  4.,  9.,  7.,  5., 16., 18., 14., 19.,  3., 14.,  1.,  3.,\n",
            "        3.,  1., 10., 13.,  8.,  2., 13., 16.,  4., 19., 17.,  7., 15.,\n",
            "        5.,  6.,  2.,  6., 19., 14.,  9.,  9.,  4., 11., 13., 11.,  7.,\n",
            "        4., 13., 16., 18., 17.,  2.,  4., 18.,  1., 14.,  7.,  5., 20.,\n",
            "       19., 18.,  2.,  6.,  9., 20.,  8.,  5.,  7., 18., 10.,  1., 14.,\n",
            "       17.,  4., 12.,  3., 15.,  3.,  1., 12.,  6.,  6.,  5.,  8., 15.,\n",
            "        1.,  9.,  9.,  8.,  4., 12.,  6., 17., 16.,  9., 15.,  5.,  5.,\n",
            "       15., 13.,  3.,  7., 20.,  8.,  4., 14., 19.,  7., 17., 17., 10.,\n",
            "       20., 18.,  9., 12., 19., 15.,  3.,  9., 18.,  5., 15.,  3., 16.,\n",
            "       12.,  7.,  3., 10.,  1., 15., 14., 18., 12., 20., 13., 10., 19.,\n",
            "       10., 12., 12., 10.,  1., 14., 11., 18., 16., 17., 15.,  6.,  2.,\n",
            "        9., 10.,  5., 12., 18., 13.,  5.,  3., 14.,  6.,  8., 18.,  2.,\n",
            "       17.,  1., 20., 14.,  5.,  6.,  2., 11.,  8., 17., 20., 19.,  1.,\n",
            "       11., 13., 17., 14., 17., 19., 20., 20.,  8.,  4.,  6.,  1., 16.,\n",
            "       16., 16., 11.,  8.,  3., 19., 16.,  8., 18., 17., 15.,  8.,  6.,\n",
            "        1., 14.,  6., 16.,  9., 20., 19.,  9.,  6., 10., 13., 11., 17.,\n",
            "        6., 13., 14., 15.,  4., 19., 17., 11., 16., 12., 19.,  7.,  8.,\n",
            "       14.,  5., 11.,  2., 20.,  2.,  3., 20., 12.,  3., 11., 17.,  4.,\n",
            "        4., 10.,  4.,  9., 11.,  9., 11.,  7.,  7., 16., 18., 16., 18.,\n",
            "        6.,  1.,  3.,  3., 12.,  9., 12., 12., 19., 11., 18.,  7., 19.,\n",
            "       14.,  7., 12.,  5., 16., 13., 10.,  5.,  8.,  8., 16., 13.,  3.,\n",
            "       14., 18., 14., 10.,  7.,  8., 20., 19., 13.,  7., 10., 15., 15.,\n",
            "       10., 20., 11.,  6.,  4.,  8.,  5.,  4., 20.,  5., 10., 15., 18.,\n",
            "       17., 13., 13.,  6.,  4., 11., 11., 16., 14.,  5.,  5.,  5.,  2.,\n",
            "       13., 17., 18., 15., 12.,  7., 11., 15., 13.,  1., 15., 19.,  1.,\n",
            "       16., 10.,  8., 10.,  4.,  9.,  2.,  2.,  7.,  3.]), 2861)\n"
          ],
          "name": "stdout"
        }
      ]
    },
    {
      "cell_type": "code",
      "metadata": {
        "id": "BUvUzqSBRLzZ",
        "outputId": "f589c8bd-569f-4ddf-8097-ce15ab8bcdab",
        "colab": {
          "base_uri": "https://localhost:8080/"
        }
      },
      "source": [
        "print(vectorSolToMatrixSol(a[0]))\n",
        "print(a[1])\n",
        "createGantt(vectorSolToMatrixSol(a[0]))"
      ],
      "execution_count": 17,
      "outputs": [
        {
          "output_type": "stream",
          "text": [
            "[[(12, 3), (11, 4), (8, 3), (9, 5), (10, 6), (4, 6), (13, 8), (2, 11), (3, 9), (15, 10), (6, 12), (7, 13), (5, 14), (1, 14), (14, 15)], [(3, 1), (15, 6), (9, 6), (8, 8), (5, 11), (7, 7), (13, 11), (14, 8), (12, 12), (11, 12), (6, 10), (2, 14), (10, 11), (4, 14), (1, 15)], [(12, 1), (4, 2), (10, 4), (13, 4), (1, 6), (5, 7), (9, 7), (3, 10), (8, 9), (6, 9), (7, 11), (2, 15), (15, 13), (14, 14), (11, 15)], [(7, 2), (1, 5), (6, 2), (13, 5), (10, 8), (2, 12), (11, 11), (12, 13), (8, 12), (15, 12), (9, 15), (3, 14), (5, 15), (14, 13), (4, 15)], [(11, 1), (2, 1), (1, 3), (15, 5), (14, 3), (5, 5), (6, 6), (13, 10), (9, 10), (7, 9), (4, 8), (8, 11), (3, 13), (12, 15), (10, 14)], [(13, 1), (4, 1), (6, 1), (2, 2), (8, 2), (11, 5), (3, 8), (12, 8), (14, 5), (9, 8), (5, 10), (7, 10), (1, 13), (10, 15), (15, 15)], [(10, 1), (1, 1), (15, 4), (3, 5), (5, 3), (9, 3), (12, 5), (4, 4), (11, 7), (2, 9), (13, 6), (14, 6), (7, 6), (8, 14), (6, 14)], [(5, 1), (11, 2), (2, 3), (1, 4), (8, 4), (7, 3), (12, 7), (6, 8), (3, 11), (10, 10), (9, 12), (14, 10), (4, 9), (15, 11), (13, 14)], [(14, 1), (5, 2), (3, 2), (13, 2), (15, 2), (2, 6), (7, 4), (10, 5), (11, 8), (1, 9), (12, 9), (9, 11), (8, 10), (4, 12), (6, 15)], [(3, 3), (10, 3), (4, 3), (2, 8), (5, 6), (13, 7), (12, 10), (14, 7), (9, 13), (1, 11), (6, 13), (8, 13), (11, 14), (15, 14), (7, 15)], [(15, 1), (9, 1), (13, 3), (5, 4), (12, 6), (4, 5), (1, 7), (2, 10), (11, 10), (10, 9), (14, 12), (3, 12), (6, 11), (7, 12), (8, 15)], [(10, 2), (8, 1), (9, 2), (2, 7), (3, 6), (6, 5), (1, 8), (15, 9), (7, 8), (14, 11), (12, 14), (13, 12), (4, 11), (5, 13), (11, 13)], [(1, 2), (7, 1), (15, 3), (3, 4), (12, 4), (8, 5), (6, 3), (11, 6), (5, 9), (9, 9), (2, 13), (14, 9), (10, 12), (13, 13), (4, 13)], [(11, 3), (2, 5), (8, 6), (14, 4), (6, 4), (3, 7), (10, 7), (15, 7), (13, 9), (4, 7), (5, 12), (12, 11), (9, 14), (1, 12), (7, 14)], [(12, 2), (2, 4), (14, 2), (9, 4), (8, 7), (5, 8), (11, 9), (6, 7), (7, 5), (15, 8), (1, 10), (4, 10), (10, 13), (13, 15), (3, 15)]]\n",
            "1884\n"
          ],
          "name": "stdout"
        },
        {
          "output_type": "execute_result",
          "data": {
            "text/plain": [
              "[[(90, 165),\n",
              "  (165, 173),\n",
              "  (250, 259),\n",
              "  (647, 660),\n",
              "  (660, 677),\n",
              "  (690, 784),\n",
              "  (883, 960),\n",
              "  (960, 978),\n",
              "  (978, 1032),\n",
              "  (1111, 1119),\n",
              "  (1438, 1525),\n",
              "  (1525, 1562),\n",
              "  (1566, 1608),\n",
              "  (1625, 1695),\n",
              "  (1727, 1762)],\n",
              " [(0, 4),\n",
              "  (374, 400),\n",
              "  (660, 747),\n",
              "  (747, 809),\n",
              "  (1000, 1093),\n",
              "  (1101, 1120),\n",
              "  (1120, 1168),\n",
              "  (1168, 1224),\n",
              "  (1224, 1269),\n",
              "  (1269, 1362),\n",
              "  (1362, 1388),\n",
              "  (1388, 1487),\n",
              "  (1487, 1556),\n",
              "  (1703, 1795),\n",
              "  (1795, 1878)],\n",
              " [(0, 47),\n",
              "  (138, 161),\n",
              "  (253, 313),\n",
              "  (342, 362),\n",
              "  (365, 380),\n",
              "  (585, 680),\n",
              "  (747, 829),\n",
              "  (1032, 1100),\n",
              "  (1100, 1106),\n",
              "  (1106, 1184),\n",
              "  (1332, 1375),\n",
              "  (1487, 1520),\n",
              "  (1526, 1609),\n",
              "  (1720, 1727),\n",
              "  (1727, 1800)],\n",
              " [(183, 258),\n",
              "  (339, 365),\n",
              "  (365, 426),\n",
              "  (426, 457),\n",
              "  (743, 832),\n",
              "  (978, 1029),\n",
              "  (1029, 1119),\n",
              "  (1269, 1336),\n",
              "  (1359, 1439),\n",
              "  (1439, 1526),\n",
              "  (1526, 1541),\n",
              "  (1541, 1576),\n",
              "  (1608, 1704),\n",
              "  (1704, 1720),\n",
              "  (1795, 1804)],\n",
              " [(0, 90),\n",
              "  (90, 164),\n",
              "  (165, 175),\n",
              "  (337, 374),\n",
              "  (374, 425),\n",
              "  (520, 556),\n",
              "  (654, 685),\n",
              "  (1010, 1090),\n",
              "  (1090, 1146),\n",
              "  (1174, 1259),\n",
              "  (1259, 1352),\n",
              "  (1352, 1359),\n",
              "  (1372, 1411),\n",
              "  (1411, 1498),\n",
              "  (1683, 1689)],\n",
              " [(0, 65),\n",
              "  (65, 138),\n",
              "  (138, 167),\n",
              "  (167, 198),\n",
              "  (198, 250),\n",
              "  (250, 341),\n",
              "  (659, 665),\n",
              "  (694, 728),\n",
              "  (728, 745),\n",
              "  (829, 912),\n",
              "  (924, 1000),\n",
              "  (1259, 1332),\n",
              "  (1529, 1625),\n",
              "  (1689, 1702),\n",
              "  (1702, 1799)],\n",
              " [(0, 5),\n",
              "  (5, 99),\n",
              "  (303, 337),\n",
              "  (389, 439),\n",
              "  (439, 460),\n",
              "  (460, 556),\n",
              "  (556, 607),\n",
              "  (607, 637),\n",
              "  (637, 726),\n",
              "  (726, 817),\n",
              "  (817, 850),\n",
              "  (850, 939),\n",
              "  (1033, 1101),\n",
              "  (1590, 1647),\n",
              "  (1647, 1661)],\n",
              " [(0, 78),\n",
              "  (90, 117),\n",
              "  (198, 286),\n",
              "  (286, 339),\n",
              "  (339, 388),\n",
              "  (388, 408),\n",
              "  (610, 694),\n",
              "  (942, 1025),\n",
              "  (1100, 1182),\n",
              "  (1182, 1270),\n",
              "  (1270, 1278),\n",
              "  (1287, 1305),\n",
              "  (1352, 1384),\n",
              "  (1384, 1396),\n",
              "  (1676, 1772)],\n",
              " [(0, 28),\n",
              "  (78, 101),\n",
              "  (101, 183),\n",
              "  (183, 245),\n",
              "  (245, 261),\n",
              "  (394, 472),\n",
              "  (472, 476),\n",
              "  (476, 517),\n",
              "  (726, 775),\n",
              "  (837, 847),\n",
              "  (847, 875),\n",
              "  (1146, 1231),\n",
              "  (1231, 1293),\n",
              "  (1514, 1570),\n",
              "  (1661, 1691)],\n",
              " [(183, 223),\n",
              "  (223, 253),\n",
              "  (253, 283),\n",
              "  (480, 487),\n",
              "  (556, 585),\n",
              "  (850, 883),\n",
              "  (883, 943),\n",
              "  (943, 1002),\n",
              "  (1278, 1344),\n",
              "  (1344, 1437),\n",
              "  (1525, 1587),\n",
              "  (1587, 1590),\n",
              "  (1590, 1625),\n",
              "  (1625, 1645),\n",
              "  (1649, 1715)],\n",
              " [(0, 57),\n",
              "  (57, 142),\n",
              "  (245, 342),\n",
              "  (460, 520),\n",
              "  (607, 610),\n",
              "  (637, 690),\n",
              "  (690, 755),\n",
              "  (817, 896),\n",
              "  (896, 924),\n",
              "  (924, 1002),\n",
              "  (1322, 1352),\n",
              "  (1352, 1372),\n",
              "  (1388, 1438),\n",
              "  (1438, 1462),\n",
              "  (1647, 1654)],\n",
              " [(5, 64),\n",
              "  (64, 96),\n",
              "  (142, 172),\n",
              "  (472, 480),\n",
              "  (480, 534),\n",
              "  (638, 654),\n",
              "  (755, 837),\n",
              "  (1106, 1111),\n",
              "  (1120, 1174),\n",
              "  (1305, 1322),\n",
              "  (1336, 1394),\n",
              "  (1394, 1484),\n",
              "  (1484, 1514),\n",
              "  (1514, 1566),\n",
              "  (1566, 1572)],\n",
              " [(99, 165),\n",
              "  (165, 183),\n",
              "  (261, 303),\n",
              "  (303, 389),\n",
              "  (389, 397),\n",
              "  (397, 458),\n",
              "  (458, 546),\n",
              "  (546, 626),\n",
              "  (845, 924),\n",
              "  (924, 1002),\n",
              "  (1029, 1047),\n",
              "  (1224, 1287),\n",
              "  (1556, 1601),\n",
              "  (1601, 1676),\n",
              "  (1676, 1703)],\n",
              " [(117, 118),\n",
              "  (337, 394),\n",
              "  (458, 493),\n",
              "  (493, 568),\n",
              "  (568, 638),\n",
              "  (638, 659),\n",
              "  (677, 743),\n",
              "  (743, 811),\n",
              "  (960, 1010),\n",
              "  (1010, 1068),\n",
              "  (1093, 1135),\n",
              "  (1135, 1204),\n",
              "  (1344, 1432),\n",
              "  (1437, 1529),\n",
              "  (1562, 1649)],\n",
              " [(47, 90),\n",
              "  (286, 337),\n",
              "  (337, 358),\n",
              "  (556, 647),\n",
              "  (647, 746),\n",
              "  (746, 845),\n",
              "  (845, 877),\n",
              "  (877, 942),\n",
              "  (942, 1033),\n",
              "  (1033, 1106),\n",
              "  (1106, 1133),\n",
              "  (1384, 1475),\n",
              "  (1601, 1683),\n",
              "  (1772, 1816),\n",
              "  (1816, 1884)]]"
            ]
          },
          "metadata": {
            "tags": []
          },
          "execution_count": 17
        }
      ]
    },
    {
      "cell_type": "code",
      "metadata": {
        "id": "qfDeQMyVRLzi",
        "outputId": "2ab68dcf-efe8-4ffb-e2ed-d8c991b32788"
      },
      "source": [
        "\n",
        "df = pd.DataFrame([\n",
        "    dict(Task=\"Job A\", Start=convert_to_datetime(0), Finish=convert_to_datetime(3), Resource=\"Alex\"),\n",
        "    dict(Task=\"Job B\", Start=convert_to_datetime(4), Finish=convert_to_datetime(5), Resource=\"Alex\"),\n",
        "    dict(Task=\"Job C\", Start=convert_to_datetime(0), Finish=convert_to_datetime(2), Resource=\"Max\")\n",
        "])\n",
        "#Maurice clerc PSO"
      ],
      "execution_count": null,
      "outputs": [
        {
          "output_type": "error",
          "ename": "NameError",
          "evalue": "name 'convert_to_datetime' is not defined",
          "traceback": [
            "\u001b[1;31m---------------------------------------------------------------------------\u001b[0m",
            "\u001b[1;31mNameError\u001b[0m                                 Traceback (most recent call last)",
            "\u001b[1;32m<ipython-input-42-14561e6f5b9b>\u001b[0m in \u001b[0;36m<module>\u001b[1;34m()\u001b[0m\n\u001b[0;32m      1\u001b[0m \u001b[1;33m\u001b[0m\u001b[0m\n\u001b[0;32m      2\u001b[0m df = pd.DataFrame([\n\u001b[1;32m----> 3\u001b[1;33m     \u001b[0mdict\u001b[0m\u001b[1;33m(\u001b[0m\u001b[0mTask\u001b[0m\u001b[1;33m=\u001b[0m\u001b[1;34m\"Job A\"\u001b[0m\u001b[1;33m,\u001b[0m \u001b[0mStart\u001b[0m\u001b[1;33m=\u001b[0m\u001b[0mconvert_to_datetime\u001b[0m\u001b[1;33m(\u001b[0m\u001b[1;36m0\u001b[0m\u001b[1;33m)\u001b[0m\u001b[1;33m,\u001b[0m \u001b[0mFinish\u001b[0m\u001b[1;33m=\u001b[0m\u001b[0mconvert_to_datetime\u001b[0m\u001b[1;33m(\u001b[0m\u001b[1;36m3\u001b[0m\u001b[1;33m)\u001b[0m\u001b[1;33m,\u001b[0m \u001b[0mResource\u001b[0m\u001b[1;33m=\u001b[0m\u001b[1;34m\"Alex\"\u001b[0m\u001b[1;33m)\u001b[0m\u001b[1;33m,\u001b[0m\u001b[1;33m\u001b[0m\u001b[0m\n\u001b[0m\u001b[0;32m      4\u001b[0m     \u001b[0mdict\u001b[0m\u001b[1;33m(\u001b[0m\u001b[0mTask\u001b[0m\u001b[1;33m=\u001b[0m\u001b[1;34m\"Job B\"\u001b[0m\u001b[1;33m,\u001b[0m \u001b[0mStart\u001b[0m\u001b[1;33m=\u001b[0m\u001b[0mconvert_to_datetime\u001b[0m\u001b[1;33m(\u001b[0m\u001b[1;36m4\u001b[0m\u001b[1;33m)\u001b[0m\u001b[1;33m,\u001b[0m \u001b[0mFinish\u001b[0m\u001b[1;33m=\u001b[0m\u001b[0mconvert_to_datetime\u001b[0m\u001b[1;33m(\u001b[0m\u001b[1;36m5\u001b[0m\u001b[1;33m)\u001b[0m\u001b[1;33m,\u001b[0m \u001b[0mResource\u001b[0m\u001b[1;33m=\u001b[0m\u001b[1;34m\"Alex\"\u001b[0m\u001b[1;33m)\u001b[0m\u001b[1;33m,\u001b[0m\u001b[1;33m\u001b[0m\u001b[0m\n\u001b[0;32m      5\u001b[0m     \u001b[0mdict\u001b[0m\u001b[1;33m(\u001b[0m\u001b[0mTask\u001b[0m\u001b[1;33m=\u001b[0m\u001b[1;34m\"Job C\"\u001b[0m\u001b[1;33m,\u001b[0m \u001b[0mStart\u001b[0m\u001b[1;33m=\u001b[0m\u001b[0mconvert_to_datetime\u001b[0m\u001b[1;33m(\u001b[0m\u001b[1;36m0\u001b[0m\u001b[1;33m)\u001b[0m\u001b[1;33m,\u001b[0m \u001b[0mFinish\u001b[0m\u001b[1;33m=\u001b[0m\u001b[0mconvert_to_datetime\u001b[0m\u001b[1;33m(\u001b[0m\u001b[1;36m2\u001b[0m\u001b[1;33m)\u001b[0m\u001b[1;33m,\u001b[0m \u001b[0mResource\u001b[0m\u001b[1;33m=\u001b[0m\u001b[1;34m\"Max\"\u001b[0m\u001b[1;33m)\u001b[0m\u001b[1;33m\u001b[0m\u001b[0m\n",
            "\u001b[1;31mNameError\u001b[0m: name 'convert_to_datetime' is not defined"
          ]
        }
      ]
    },
    {
      "cell_type": "code",
      "metadata": {
        "id": "Joq0AYt-RLzr"
      },
      "source": [
        "def convert_to_datetime(x):\n",
        "  return datetime.fromtimestamp(31536000+x*24*3600).strftime(\"%Y-%d-%m\")"
      ],
      "execution_count": null,
      "outputs": []
    },
    {
      "cell_type": "code",
      "metadata": {
        "id": "eWfsxAXRRLz2"
      },
      "source": [
        "num_tick_labels = np.linspace(start = 0, stop = 10, num = 11, dtype = int)\n",
        "date_ticks = [convert_to_datetime(x) for x in num_tick_labels]\n",
        "\n",
        "fig = ff.create_gantt(df)\n",
        "fig.layout.xaxis.update({\n",
        "        'tickvals' : date_ticks,\n",
        "        'ticktext' : num_tick_labels\n",
        "        })\n",
        "fig.write_html('first_figure.html', auto_open=True)\n",
        "fig.show()"
      ],
      "execution_count": null,
      "outputs": []
    },
    {
      "cell_type": "code",
      "metadata": {
        "id": "BgCvJkFURL0A"
      },
      "source": [
        ""
      ],
      "execution_count": null,
      "outputs": []
    }
  ]
}